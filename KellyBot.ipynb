{
  "nbformat": 4,
  "nbformat_minor": 0,
  "metadata": {
    "colab": {
      "name": "KellyBot.ipynb",
      "provenance": [],
      "collapsed_sections": []
    },
    "kernelspec": {
      "name": "python3",
      "display_name": "Python 3"
    },
    "language_info": {
      "name": "python"
    }
  },
  "cells": [
    {
      "cell_type": "markdown",
      "source": [
        "In this notebook, we'll use the Blankly package to experiment with a bot based on the Kelly Criterion. The Kelly Criterion deals with position sizing -- given how confident we are in our model's prediction for an asset's behavior, the Kelly Criterion outputs the optimal size for the position."
      ],
      "metadata": {
        "id": "uUPSmtsox-tr"
      }
    },
    {
      "cell_type": "code",
      "execution_count": null,
      "metadata": {
        "id": "uvE5oZD1fnxl"
      },
      "outputs": [],
      "source": [
        "!pip install blankly #install blankly"
      ]
    },
    {
      "cell_type": "markdown",
      "source": [
        "We'll initialize the basics of our Blankly environment with the command '*blankly init*'. Once done, we get template .json files that we'll need for configuring backtests. Most importantly, we'll need to input our API keys into keys.json. "
      ],
      "metadata": {
        "id": "r1NW0cnXpZXv"
      }
    },
    {
      "cell_type": "code",
      "source": [
        "!blankly init"
      ],
      "metadata": {
        "id": "e3Rt1j5KpXRS"
      },
      "execution_count": null,
      "outputs": []
    },
    {
      "cell_type": "markdown",
      "source": [
        "Here are our imports -- we just need Blankly for this strategy."
      ],
      "metadata": {
        "id": "FxkEN4t64Jq9"
      }
    },
    {
      "cell_type": "code",
      "source": [
        "import blankly"
      ],
      "metadata": {
        "id": "LMth5uuBfrem"
      },
      "execution_count": 4,
      "outputs": []
    },
    {
      "cell_type": "markdown",
      "source": [
        "This section is where we'll initialize the framework for our Kelly price event. We'll create an interface to interact with the exchange as well as set a resolution and download historical data. We'll also estimate our win/loss \"probabilities\" using a simple RSI bucket strategy. We'll split price movement data into bands of size 10 (RSI 40 to RSI 50 etc.). Then, we'll use the historically observed data to calculate the probability of an increase as well as a win/loss ratio, which we then use to calculate the optimal Kelly size."
      ],
      "metadata": {
        "id": "gw1y9ZX24v5i"
      }
    },
    {
      "cell_type": "code",
      "source": [
        "def init_kelly(symbol, state: blankly.StrategyState):\n",
        "    interface = state.interface\n",
        "    resolution = state.resolution\n",
        "    variables = state.variables\n",
        "\n",
        "    #Get price data\n",
        "    variables['history'] = interface.history(symbol, 300, resolution, return_as='list')['close']\n",
        "    rsi = blankly.indicators.rsi(variables['history'])\n",
        "    '''\n",
        "    Create RSI buckets, each of which corresponds to a size-10 range of RSI values. \n",
        "    '''\n",
        "    buckets = [[0,0,0,0] for i in range(10)]\n",
        "    '''For each datapoint, count whether price increases/decreases, size of increase/decrease,\n",
        "     and put it in appropriate bucket'''\n",
        "    for i in range(len(variables['history']) - 15):\n",
        "      r = rsi[i]\n",
        "      p = variables['history'][i + 15]\n",
        "      cp = variables['history'][i + 14]\n",
        "      ind = int(r//10)\n",
        "      if r < 0:\n",
        "        ind = 0\n",
        "      elif r > 90:\n",
        "        ind = 9\n",
        "      if cp < p:\n",
        "        buckets[ind][0]+=1\n",
        "        buckets[ind][1]+=1\n",
        "        buckets[ind][3]+=((p - cp)/cp)\n",
        "      elif cp > p:\n",
        "        buckets[ind][0]+=0\n",
        "        buckets[ind][1]+=1\n",
        "        buckets[ind][2]+=((p - cp)/cp)\n",
        "    ratios = []\n",
        "    '''Calculates win/loss ratios'''\n",
        "    for elem in buckets:\n",
        "      if elem[0]==0:\n",
        "        ratios.append(0)\n",
        "      elif elem[1] - elem[0] == 0:\n",
        "        ratios.append(1)\n",
        "      else:\n",
        "        ratios.append((-elem[3]/elem[0])/(elem[2]/(elem[1] - elem[0])))\n",
        "    '''Calculates win/loss probabilities'''\n",
        "    probs = [(elem[0]/elem[1]) if elem[1]!=0 else 0 for elem in buckets]\n",
        "    '''Calculates Kelly sizing according to formula\n",
        "    W - (1-W)/R\n",
        "    '''\n",
        "    variables['kelly_sizes'] = [max(0,probs[i] - (1-probs[i])/ratios[i]) if ratios[i]!=0 else 0 for i in range(len(probs))]\n",
        "    print(variables['kelly_sizes'])\n",
        "    state.variables['owns_position'] = False\n",
        "    #print(len(variables['history']))\n",
        "    #print(len(rsi))"
      ],
      "metadata": {
        "id": "in_TQf6TjfFI"
      },
      "execution_count": 76,
      "outputs": []
    },
    {
      "cell_type": "markdown",
      "source": [
        "This section is where we implement the logic of the trading algorithm. After getting the newest price, we calculate the RSI, and based on the observed historical data, we choose how much to scale into the position."
      ],
      "metadata": {
        "id": "0QOWv4IS8P1G"
      }
    },
    {
      "cell_type": "code",
      "source": [
        "def price_kelly(price,symbol,state: blankly.StrategyState):\n",
        "    state.variables['history'].append(price) #Add latest price to current list of data\n",
        "    '''Here, we pull the data from the last few days, prepare it,\n",
        "    and run the necessary indicator functions to feed into our model\n",
        "    '''\n",
        "    rsi = blankly.indicators.rsi(state.variables['history'])\n",
        "    '''Clear previous day's position'''\n",
        "    curr_value = blankly.trunc(state.interface.account[state.base_asset].available, 2) #Amount of asset available\n",
        "    if curr_value > 0:\n",
        "      state.interface.market_order(symbol, side='sell', size=curr_value)\n",
        "    '''Determine bucket based off RSI'''\n",
        "    ind = int(rsi[-1]//10)\n",
        "    ind = max(0,ind)\n",
        "    ind = min(9, ind)\n",
        "    buy = blankly.trunc(state.variables['kelly_sizes'][ind] * state.interface.cash/price, 2) #Buy appropriate amount\n",
        "    if buy > 0:\n",
        "      state.interface.market_order(symbol, side='buy', size=buy)"
      ],
      "metadata": {
        "id": "drKw7kz16k7D"
      },
      "execution_count": 75,
      "outputs": []
    },
    {
      "cell_type": "markdown",
      "source": [
        "Baseline strategy -- 30/70 RSI Bot. We might not get returns as large, as our typical buy sizes are much smaller than in this model, but we hope to at least get better performance in terms of ratios."
      ],
      "metadata": {
        "id": "-_o5C4TQT1Xm"
      }
    },
    {
      "cell_type": "code",
      "source": [
        "def price_event(price, symbol, state: blankly.StrategyState):\n",
        "    \"\"\" This function will give an updated price every 15 seconds from our definition below \"\"\"\n",
        "    state.variables['history'].append(price)\n",
        "    rsi = blankly.indicators.rsi(state.variables['history'])\n",
        "    if rsi[-1] < 30 and not state.variables['owns_position']:\n",
        "        # Dollar cost average buy\n",
        "        buy = blankly.trunc(state.interface.cash/price, 2)\n",
        "        state.interface.market_order(symbol, side='buy', size=buy)\n",
        "        state.variables['owns_position'] = True\n",
        "    elif rsi[-1] > 70 and state.variables['owns_position']:\n",
        "        # Dollar cost average sell\n",
        "        curr_value = blankly.trunc(state.interface.account[state.base_asset].available, 2)\n",
        "        state.interface.market_order(symbol, side='sell', size=curr_value)\n",
        "        state.variables['owns_position'] = False"
      ],
      "metadata": {
        "id": "KiJdypLy1iWl"
      },
      "execution_count": 55,
      "outputs": []
    },
    {
      "cell_type": "markdown",
      "source": [
        "Here, we test our model! We start with $10,000 and connect to Alpaca's API through Blankly. After creating a Blankly strategy and adding our price event, we can run and see the results. We want to compare our strategy's performance to a baseline that just naively buys and sells as much as possible when RSI is less than 30 or above 70."
      ],
      "metadata": {
        "id": "urRtsYRH5bzH"
      }
    },
    {
      "cell_type": "code",
      "source": [
        "exchange = blankly.Alpaca() #Connect to Alpaca API\n",
        "strategy = blankly.Strategy(exchange) #Initialize a Blankly strategy\n",
        "strategy.add_price_event(price_event, symbol='SPY', resolution='1d', init=init_kelly) #Add our price event and initialization. Using the Kelly initialization is fine.\n",
        "results = strategy.backtest(to='1y', initial_values={'USD': 10000}) #Backtest one year starting with $10,000\n",
        "print(results)"
      ],
      "metadata": {
        "colab": {
          "base_uri": "https://localhost:8080/"
        },
        "id": "s5xOd2vQiN0x",
        "outputId": "40432f58-4210-46ce-c480-00016b0748dd"
      },
      "execution_count": 77,
      "outputs": [
        {
          "output_type": "stream",
          "name": "stderr",
          "text": [
            "INFO: No portfolio name to load specified, defaulting to the first in the file: (another cool portfolio). This is fine if there is only one portfolio in use.\n"
          ]
        },
        {
          "output_type": "stream",
          "name": "stdout",
          "text": [
            "\n",
            "Initializing...\n",
            "[0, 0, 0, 0.7157529186475641, 0.30227335073055467, 0.18090017256614732, 0.008518120204588253, 0.7897199745088698, 0, 0]\n",
            "\n",
            "Backtesting...\n",
            "Progress: [##########] 100% Done...\n",
            "\n",
            "Historical Dataframes: \n",
            "Account History: \n",
            "            USD    SPY          time  Account Value (USD)\n",
            "0    10000.0000   0.00  1.617595e+09           10000.0000\n",
            "1    10000.0000   0.00  1.617595e+09           10000.0000\n",
            "2    10000.0000   0.00  1.617682e+09           10000.0000\n",
            "3    10000.0000   0.00  1.617768e+09           10000.0000\n",
            "4    10000.0000   0.00  1.617854e+09           10000.0000\n",
            "..          ...    ...           ...                  ...\n",
            "358      1.1886  23.07  1.648440e+09           10517.4174\n",
            "359  10648.6857   0.00  1.648526e+09           10648.6857\n",
            "360  10648.6857   0.00  1.648613e+09           10648.6857\n",
            "361  10648.6857   0.00  1.648699e+09           10648.6857\n",
            "362  10648.6857   0.00  1.648786e+09           10648.6857\n",
            "\n",
            "[363 rows x 4 columns]\n",
            "Account Returns: \n",
            "             time     value\n",
            "0    1.617595e+09       NaN\n",
            "1    1.617682e+09  0.000000\n",
            "2    1.617768e+09  0.000000\n",
            "3    1.617854e+09  0.000000\n",
            "4    1.617941e+09  0.000000\n",
            "..            ...       ...\n",
            "357  1.648440e+09  0.000000\n",
            "358  1.648526e+09  0.000000\n",
            "359  1.648613e+09  0.012481\n",
            "360  1.648699e+09  0.000000\n",
            "361  1.648786e+09  0.000000\n",
            "\n",
            "[362 rows x 2 columns]\n",
            "Resampled Account Value: \n",
            "             time       value\n",
            "0    1.617595e+09  10000.0000\n",
            "1    1.617682e+09  10000.0000\n",
            "2    1.617768e+09  10000.0000\n",
            "3    1.617854e+09  10000.0000\n",
            "4    1.617941e+09  10000.0000\n",
            "..            ...         ...\n",
            "357  1.648440e+09  10517.4174\n",
            "358  1.648526e+09  10517.4174\n",
            "359  1.648613e+09  10648.6857\n",
            "360  1.648699e+09  10648.6857\n",
            "361  1.648786e+09  10648.6857\n",
            "\n",
            "[362 rows x 2 columns]\n",
            "Blankly Metrics: \n",
            "Calmar Ratio:                      0.53\n",
            "Compound Annual Growth Rate (%):   7.000000000000001%\n",
            "Conditional Value-at-Risk:         6.83\n",
            "Cumulative Returns (%):            6.0%\n",
            "Max Drawdown (%):                  9.0%\n",
            "Resampled Time:                    86400.0\n",
            "Risk Free Return Rate:             0.0\n",
            "Sharpe Ratio:                      0.53\n",
            "Sortino Ratio:                     0.39\n",
            "Value-at-Risk:                     104.01\n",
            "Variance (%):                      0.81%\n",
            "Volatility:                        0.09\n",
            "\n"
          ]
        },
        {
          "output_type": "stream",
          "name": "stderr",
          "text": [
            "INFO: Make an account to take advantage of the platform backtest viewer: https://app.blankly.finance/5Z9MWfnUzwIyy9Qv385a/1Ss7zybwN8aMAbWb3lSH/aG3LE1LzHnY24oqtBMS3/backtest\n"
          ]
        }
      ]
    },
    {
      "cell_type": "markdown",
      "source": [
        "When we run our baseline, we see a slight profit along with a Sharpe Ratio of 0.53 and Sortino of 0.39 -- not amazing in terms of reward/risk."
      ],
      "metadata": {
        "id": "o-cY6rrD_G5K"
      }
    },
    {
      "cell_type": "code",
      "source": [
        "exchange = blankly.Alpaca() #Connect to Alpaca API\n",
        "strategy = blankly.Strategy(exchange) #Initialize a Blankly strategy\n",
        "strategy.add_price_event(price_kelly, symbol='SPY', resolution='1d', init=init_kelly) #Add our price event and initialization\n",
        "results = strategy.backtest(to='1y', initial_values={'USD': 10000}) #Backtest one year starting with $10,000\n",
        "print(results)"
      ],
      "metadata": {
        "colab": {
          "base_uri": "https://localhost:8080/"
        },
        "outputId": "5b048b77-0428-4edf-fb6c-d2dea2c89757",
        "id": "YpX5GtGe9oaE"
      },
      "execution_count": 78,
      "outputs": [
        {
          "output_type": "stream",
          "name": "stderr",
          "text": [
            "INFO: No portfolio name to load specified, defaulting to the first in the file: (another cool portfolio). This is fine if there is only one portfolio in use.\n"
          ]
        },
        {
          "output_type": "stream",
          "name": "stdout",
          "text": [
            "\n",
            "Initializing...\n",
            "[0, 0, 0, 0.7157529186475641, 0.30227335073055467, 0.18090017256614732, 0.008518120204588253, 0.7897199745088698, 0, 0]\n",
            "\n",
            "Backtesting...\n",
            "Progress: [##########] 100% Done...\n",
            "\n",
            "Historical Dataframes: \n",
            "Account History: \n",
            "            USD    SPY          time  Account Value (USD)\n",
            "0    10000.0000   0.00  1.617595e+09         10000.000000\n",
            "1     9918.7280   0.20  1.617595e+09         10000.000000\n",
            "2     9918.7280   0.20  1.617682e+09          9999.952000\n",
            "3     9918.7280   0.20  1.617768e+09         10000.046000\n",
            "4     9918.7280   0.20  1.617854e+09         10000.432000\n",
            "..          ...    ...           ...                  ...\n",
            "358  10664.6571   0.21  1.648440e+09         10760.383493\n",
            "359   2264.8111  18.41  1.648526e+09         10761.578393\n",
            "360  10619.3770   0.20  1.648613e+09         10711.134993\n",
            "361   8770.2471   4.29  1.648699e+09         10709.798993\n",
            "362   8774.7763   4.28  1.648786e+09         10713.273893\n",
            "\n",
            "[363 rows x 4 columns]\n",
            "Account Returns: \n",
            "             time     value\n",
            "0    1.617595e+09       NaN\n",
            "1    1.617682e+09  0.000000\n",
            "2    1.617768e+09 -0.000005\n",
            "3    1.617854e+09  0.000009\n",
            "4    1.617941e+09  0.000039\n",
            "..            ...       ...\n",
            "357  1.648440e+09  0.000000\n",
            "358  1.648526e+09  0.000000\n",
            "359  1.648613e+09  0.000111\n",
            "360  1.648699e+09 -0.004687\n",
            "361  1.648786e+09 -0.000125\n",
            "\n",
            "[362 rows x 2 columns]\n",
            "Resampled Account Value: \n",
            "             time         value\n",
            "0    1.617595e+09  10000.000000\n",
            "1    1.617682e+09  10000.000000\n",
            "2    1.617768e+09   9999.952000\n",
            "3    1.617854e+09  10000.046000\n",
            "4    1.617941e+09  10000.432000\n",
            "..            ...           ...\n",
            "357  1.648440e+09  10760.383493\n",
            "358  1.648526e+09  10760.383493\n",
            "359  1.648613e+09  10761.578393\n",
            "360  1.648699e+09  10711.134993\n",
            "361  1.648786e+09  10709.798993\n",
            "\n",
            "[362 rows x 2 columns]\n",
            "Blankly Metrics: \n",
            "Calmar Ratio:                      1.47\n",
            "Compound Annual Growth Rate (%):   7.000000000000001%\n",
            "Conditional Value-at-Risk:         3.24\n",
            "Cumulative Returns (%):            7.000000000000001%\n",
            "Max Drawdown (%):                  3.0%\n",
            "Resampled Time:                    86400.0\n",
            "Risk Free Return Rate:             0.0\n",
            "Sharpe Ratio:                      0.97\n",
            "Sortino Ratio:                     1.3\n",
            "Value-at-Risk:                     55.59\n",
            "Variance (%):                      0.25%\n",
            "Volatility:                        0.05\n",
            "\n"
          ]
        },
        {
          "output_type": "stream",
          "name": "stderr",
          "text": [
            "INFO: Make an account to take advantage of the platform backtest viewer: https://app.blankly.finance/5Z9MWfnUzwIyy9Qv385a/1Ss7zybwN8aMAbWb3lSH/aG3LE1LzHnY24oqtBMS3/backtest\n"
          ]
        }
      ]
    },
    {
      "cell_type": "markdown",
      "source": [
        "In contrast, when we run our Kelly-based allocation model, we end up with a much better reward/risk. We had slightly better returns with significantly less capital deployed, resulting in a 0.97 Sharpe Ratio and 1.3 Sortino Ratio. This model isn't super amazing, as is expected when we look only at a single RSI datapoint to predict the next day's move, but the main point is that the Kelly-based RSI model outperformed the naive RSI model. With a more effective model, adding Kelly could result in significantly better performance."
      ],
      "metadata": {
        "id": "c62b97-V_TDi"
      }
    }
  ]
}