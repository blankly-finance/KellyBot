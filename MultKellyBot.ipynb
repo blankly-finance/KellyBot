{
  "nbformat": 4,
  "nbformat_minor": 0,
  "metadata": {
    "colab": {
      "name": "MultKellyBot.ipynb",
      "provenance": [],
      "collapsed_sections": []
    },
    "kernelspec": {
      "name": "python3",
      "display_name": "Python 3"
    },
    "language_info": {
      "name": "python"
    }
  },
  "cells": [
    {
      "cell_type": "markdown",
      "source": [
        "In this notebook, we'll use the Blankly package to experiment with a bot based on the Kelly Criterion. The Kelly Criterion deals with position sizing -- given how confident we are in our model's prediction for an asset's behavior, the Kelly Criterion outputs the optimal size for the position."
      ],
      "metadata": {
        "id": "uUPSmtsox-tr"
      }
    },
    {
      "cell_type": "code",
      "execution_count": null,
      "metadata": {
        "id": "uvE5oZD1fnxl"
      },
      "outputs": [],
      "source": [
        "!pip install blankly #install blankly"
      ]
    },
    {
      "cell_type": "markdown",
      "source": [
        "We'll initialize the basics of our Blankly environment with the command '*blankly init*'. Once done, we get template .json files that we'll need for configuring backtests. Most importantly, we'll need to input our API keys into keys.json. "
      ],
      "metadata": {
        "id": "r1NW0cnXpZXv"
      }
    },
    {
      "cell_type": "code",
      "source": [
        "!blankly init"
      ],
      "metadata": {
        "id": "e3Rt1j5KpXRS",
        "colab": {
          "base_uri": "https://localhost:8080/"
        },
        "outputId": "c53c443e-9b9c-474e-ce6e-4ab08b8be995"
      },
      "execution_count": 2,
      "outputs": [
        {
          "output_type": "stream",
          "name": "stdout",
          "text": [
            "Initializing...\n",
            "\n",
            "██████╗ ██╗      █████╗ ███╗   ██╗██╗  ██╗██╗  ██╗   ██╗    ███████╗██╗███╗   ██╗ █████╗ ███╗   ██╗ ██████╗███████╗\n",
            "██╔══██╗██║     ██╔══██╗████╗  ██║██║ ██╔╝██║  ╚██╗ ██╔╝    ██╔════╝██║████╗  ██║██╔══██╗████╗  ██║██╔════╝██╔════╝\n",
            "██████╔╝██║     ███████║██╔██╗ ██║█████╔╝ ██║   ╚████╔╝     █████╗  ██║██╔██╗ ██║███████║██╔██╗ ██║██║     █████╗  \n",
            "██╔══██╗██║     ██╔══██║██║╚██╗██║██╔═██╗ ██║    ╚██╔╝      ██╔══╝  ██║██║╚██╗██║██╔══██║██║╚██╗██║██║     ██╔══╝  \n",
            "██████╔╝███████╗██║  ██║██║ ╚████║██║  ██╗███████╗██║       ██║     ██║██║ ╚████║██║  ██║██║ ╚████║╚██████╗███████╗\n",
            "╚═════╝ ╚══════╝╚═╝  ╚═╝╚═╝  ╚═══╝╚═╝  ╚═╝╚══════╝╚═╝       ╚═╝     ╚═╝╚═╝  ╚═══╝╚═╝  ╚═╝╚═╝  ╚═══╝ ╚═════╝╚══════╝\n",
            "\n",
            "Downloading keys template...\n",
            "\u001b[93mAlready exists - skipping...\u001b[0m\n",
            "Downloading settings defaults...\n",
            "Downloading backtest defaults...\n",
            "Downloading RSI bot example...\n",
            "Writing deployment defaults...\n",
            "Detecting python version...\n",
            "\u001b[96m\u001b[1mFound python version: 3.7\u001b[0m\n",
            "Writing requirements.txt defaults...\n",
            "\u001b[93mRun \"blankly login\" and then \"blankly init\" again to get better backtest viewing.\u001b[0m\n",
            "\u001b[92m\u001b[4mSuccess!\u001b[0m\n"
          ]
        }
      ]
    },
    {
      "cell_type": "markdown",
      "source": [
        "Here are our imports -- we just need Blankly for this strategy."
      ],
      "metadata": {
        "id": "FxkEN4t64Jq9"
      }
    },
    {
      "cell_type": "code",
      "source": [
        "import blankly"
      ],
      "metadata": {
        "id": "LMth5uuBfrem"
      },
      "execution_count": 3,
      "outputs": []
    },
    {
      "cell_type": "markdown",
      "source": [
        "This section is where we'll initialize the framework for our Kelly price event. We'll create an interface to interact with the exchange as well as set a resolution and download historical data. We'll also estimate our win/loss \"probabilities\" using a simple RSI bucket strategy. We'll split price movement data into bands of size 10 (RSI 40 to RSI 50 etc.). Then, we'll use the historically observed data to calculate the probability of an increase as well as a win/loss ratio, which we then use to calculate the optimal Kelly size."
      ],
      "metadata": {
        "id": "gw1y9ZX24v5i"
      }
    },
    {
      "cell_type": "code",
      "source": [
        "def init_kelly(symbol, state: blankly.StrategyState):\n",
        "    interface = state.interface\n",
        "    resolution = state.resolution\n",
        "    variables = state.variables\n",
        "\n",
        "    #Get price data\n",
        "    variables['history'] = interface.history(symbol, 500, resolution, return_as='list')['close']\n",
        "    rsi = blankly.indicators.rsi(variables['history'])\n",
        "    '''\n",
        "    Create RSI buckets, each of which corresponds to a size-10 range of RSI values. \n",
        "    '''\n",
        "    buckets = [[0,0,0,0] for i in range(10)]\n",
        "    '''For each datapoint, count whether price increases/decreases, size of increase/decrease,\n",
        "     and put it in appropriate bucket'''\n",
        "    for i in range(len(variables['history']) - 15):\n",
        "      r = rsi[i]\n",
        "      p = variables['history'][i + 15]\n",
        "      cp = variables['history'][i + 14]\n",
        "      ind = int(r//10)\n",
        "      if r < 0:\n",
        "        ind = 0\n",
        "      elif r > 90:\n",
        "        ind = 9\n",
        "      if cp < p:\n",
        "        buckets[ind][0]+=1\n",
        "        buckets[ind][1]+=1\n",
        "        buckets[ind][3]+=((p - cp)/cp)\n",
        "      elif cp > p:\n",
        "        buckets[ind][0]+=0\n",
        "        buckets[ind][1]+=1\n",
        "        buckets[ind][2]+=((p - cp)/cp)\n",
        "    ratios = []\n",
        "    '''Calculates win/loss ratios'''\n",
        "    for elem in buckets:\n",
        "      if elem[0]==0:\n",
        "        ratios.append(0)\n",
        "      elif elem[1] - elem[0] == 0:\n",
        "        ratios.append(1)\n",
        "      else:\n",
        "        ratios.append((-elem[3]/elem[0])/(elem[2]/(elem[1] - elem[0])))\n",
        "    '''Calculates win/loss probabilities'''\n",
        "    probs = [(elem[0]/elem[1]) if elem[1]!=0 else 0 for elem in buckets]\n",
        "    '''Calculates Kelly sizing according to formula\n",
        "    W - (1-W)/R\n",
        "    '''\n",
        "    variables['kelly_sizes'] = [max(0,probs[i] - (1-probs[i])/ratios[i]) if ratios[i]!=0 else 0 for i in range(len(probs))]\n",
        "    print(variables['kelly_sizes'])\n",
        "    state.variables['owns_position'] = False\n",
        "    #print(len(variables['history']))\n",
        "    #print(len(rsi))"
      ],
      "metadata": {
        "id": "in_TQf6TjfFI"
      },
      "execution_count": 10,
      "outputs": []
    },
    {
      "cell_type": "markdown",
      "source": [
        "This section is where we implement the logic of the trading algorithm. After getting the newest price, we calculate the RSI, and based on the observed historical data, we choose how much to scale into the position."
      ],
      "metadata": {
        "id": "0QOWv4IS8P1G"
      }
    },
    {
      "cell_type": "code",
      "source": [
        "def price_kelly(price,symbol,state: blankly.StrategyState):\n",
        "    state.variables['history'].append(price) #Add latest price to current list of data\n",
        "    '''Here, we pull the data from the last few days, prepare it,\n",
        "    and run the necessary indicator functions to feed into our model\n",
        "    '''\n",
        "    rsi = blankly.indicators.rsi(state.variables['history'])\n",
        "    '''Clear previous day's position'''\n",
        "    curr_value = blankly.trunc(state.interface.account[state.base_asset].available, 2) #Amount of asset available\n",
        "    if curr_value > 0:\n",
        "      state.interface.market_order(symbol, side='sell', size=curr_value)\n",
        "    '''Determine bucket based off RSI'''\n",
        "    ind = int(rsi[-1]//10)\n",
        "    ind = max(0,ind)\n",
        "    ind = min(9, ind)\n",
        "    buy = blankly.trunc(state.variables['kelly_sizes'][ind] * state.interface.cash/price, 2) #Buy appropriate amount\n",
        "    if buy > 0:\n",
        "      state.interface.market_order(symbol, side='buy', size=buy)"
      ],
      "metadata": {
        "id": "drKw7kz16k7D"
      },
      "execution_count": 5,
      "outputs": []
    },
    {
      "cell_type": "markdown",
      "source": [
        "Here's our baseline strategy -- takes the same data and processes it, but every time, we just buy with full amount instead of using Kelly. "
      ],
      "metadata": {
        "id": "1izLY0FJ803H"
      }
    },
    {
      "cell_type": "code",
      "source": [
        "def price_baseline(price,symbol,state: blankly.StrategyState):\n",
        "    state.variables['history'].append(price) #Add latest price to current list of data\n",
        "    '''Here, we pull the data from the last few days, prepare it,\n",
        "    and run the necessary indicator functions to feed into our model\n",
        "    '''\n",
        "    rsi = blankly.indicators.rsi(state.variables['history'])\n",
        "    '''Clear previous day's position'''\n",
        "    curr_value = blankly.trunc(state.interface.account[state.base_asset].available, 2) #Amount of asset available\n",
        "    if curr_value > 0:\n",
        "      state.interface.market_order(symbol, side='sell', size=curr_value)\n",
        "    '''Determine bucket based off RSI'''\n",
        "    ind = int(rsi[-1]//10)\n",
        "    ind = max(0,ind)\n",
        "    ind = min(9, ind)\n",
        "    buy = blankly.trunc(int(state.variables['kelly_sizes'][ind]>0.1) * state.interface.cash/price, 2) #Buy appropriate amount\n",
        "    if buy > 0:\n",
        "      state.interface.market_order(symbol, side='buy', size=buy)"
      ],
      "metadata": {
        "id": "MFgcyJFDtRGA"
      },
      "execution_count": 44,
      "outputs": []
    },
    {
      "cell_type": "markdown",
      "source": [
        "Here, we test our model! We start with $10,000 and connect to Alpaca's API through Blankly. After creating a Blankly strategy and adding our price event, we can run and see the results. We want to compare our strategy's performance to a baseline that just buys and sells as much as possible along the same guidelines as the original strategy."
      ],
      "metadata": {
        "id": "urRtsYRH5bzH"
      }
    },
    {
      "cell_type": "code",
      "source": [
        "exchange = blankly.Alpaca() #Connect to Alpaca API\n",
        "strategy = blankly.Strategy(exchange) #Initialize a Blankly strategy\n",
        "strategy.add_price_event(price_baseline, symbol='CRM', resolution='1d', init=init_kelly) #Add our price event and initialization. Using the Kelly initialization is fine.\n",
        "strategy.add_price_event(price_baseline, symbol='SPY', resolution='1d', init=init_kelly)\n",
        "strategy.add_price_event(price_baseline, symbol='AAPL', resolution='1d', init=init_kelly)\n",
        "results = strategy.backtest(to='1y', initial_values={'USD': 10000}) #Backtest one year starting with $10,000\n",
        "print(results)"
      ],
      "metadata": {
        "colab": {
          "base_uri": "https://localhost:8080/"
        },
        "id": "s5xOd2vQiN0x",
        "outputId": "6a661b67-a4ae-4e08-8950-9f0df35224d8"
      },
      "execution_count": 43,
      "outputs": [
        {
          "output_type": "stream",
          "name": "stderr",
          "text": [
            "INFO: No portfolio name to load specified, defaulting to the first in the file: (another cool portfolio). This is fine if there is only one portfolio in use.\n"
          ]
        },
        {
          "output_type": "stream",
          "name": "stdout",
          "text": [
            "\n",
            "Initializing...\n",
            "[0, 0, 0.7888825272207316, 0, 0, 0.20332200726210103, 0.09713363963406879, 0.010154941478003443, 0.07155188518533973, 0]\n",
            "[0, 1.0, 0.38414505667619037, 0, 0.30102172256186976, 0.1410895486615057, 0.06163776469911697, 0.31368224653511223, 0, 0]\n",
            "[0, 0, 0.5545629388888995, 0.054238890923532845, 0, 0.24689797832005272, 0.2700327811537582, 0, 0, 0]\n",
            "\n",
            "Backtesting...\n",
            "Progress: [##########] 100% Done...\n",
            "\n",
            "Historical Dataframes: \n",
            "Account History: \n",
            "              USD    CRM    SPY  AAPL          time  Account Value (USD)\n",
            "0     10000.00000   0.00   0.00   0.0  1.618286e+09         10000.000000\n",
            "1         0.80000  43.10   0.00   0.0  1.618286e+09         10000.000000\n",
            "2         0.80000  43.10   0.00   0.0  1.618286e+09         10000.000000\n",
            "3         0.80000  43.10   0.00   0.0  1.618286e+09         10000.000000\n",
            "4         0.80000  43.10   0.00   0.0  1.618373e+09         10000.000000\n",
            "...           ...    ...    ...   ...           ...                  ...\n",
            "1087      4.37205   0.01  29.54   0.0  1.649563e+09         13227.561547\n",
            "1089      4.37205   0.01  29.54   0.0  1.649563e+09         13227.561547\n",
            "1091      4.37205   0.01  29.54   0.0  1.649650e+09         13227.561547\n",
            "1090      4.37205   0.01  29.54   0.0  1.649650e+09         13227.561547\n",
            "1092      4.37205   0.01  29.54   0.0  1.649650e+09         13227.561547\n",
            "\n",
            "[1093 rows x 6 columns]\n",
            "Account Returns: \n",
            "             time         value\n",
            "0    1.618286e+09           NaN\n",
            "1    1.618373e+09 -9.980905e-14\n",
            "2    1.618459e+09 -1.000311e-13\n",
            "3    1.618546e+09 -1.659350e-02\n",
            "4    1.618632e+09  2.125622e-02\n",
            "..            ...           ...\n",
            "359  1.649304e+09 -3.978874e-02\n",
            "360  1.649390e+09 -1.000062e-02\n",
            "361  1.649477e+09  5.032909e-03\n",
            "362  1.649563e+09 -2.674945e-03\n",
            "363  1.649650e+09 -3.383738e-12\n",
            "\n",
            "[364 rows x 2 columns]\n",
            "Resampled Account Value: \n",
            "             time         value\n",
            "0    1.618286e+09  10000.000000\n",
            "1    1.618373e+09  10000.000000\n",
            "2    1.618459e+09  10000.000000\n",
            "3    1.618546e+09   9834.065000\n",
            "4    1.618632e+09  10043.100000\n",
            "..            ...           ...\n",
            "359  1.649304e+09  13329.929648\n",
            "360  1.649390e+09  13196.622048\n",
            "361  1.649477e+09  13263.039448\n",
            "362  1.649563e+09  13227.561547\n",
            "363  1.649650e+09  13227.561547\n",
            "\n",
            "[364 rows x 2 columns]\n",
            "Blankly Metrics: \n",
            "Calmar Ratio:                      1.35\n",
            "Compound Annual Growth Rate (%):   32.0%\n",
            "Conditional Value-at-Risk:         4.94\n",
            "Cumulative Returns (%):            32.0%\n",
            "Max Drawdown (%):                  15.0%\n",
            "Resampled Time:                    86400.0\n",
            "Risk Free Return Rate:             0.0\n",
            "Sharpe Ratio:                      1.29\n",
            "Sortino Ratio:                     1.7\n",
            "Value-at-Risk:                     214.84\n",
            "Variance (%):                      2.59%\n",
            "Volatility:                        0.16\n",
            "\n"
          ]
        },
        {
          "output_type": "stream",
          "name": "stderr",
          "text": [
            "INFO: Make an account to take advantage of the platform backtest viewer: https://app.blankly.finance/5Z9MWfnUzwIyy9Qv385a/1Ss7zybwN8aMAbWb3lSH/aG3LE1LzHnY24oqtBMS3/backtest\n"
          ]
        }
      ]
    },
    {
      "cell_type": "markdown",
      "source": [
        "When we run our baseline, we see a slight profit along \n",
        "with a Sharpe Ratio of 1.29 and Sortino of 1.7 -- decent in terms of reward/risk."
      ],
      "metadata": {
        "id": "o-cY6rrD_G5K"
      }
    },
    {
      "cell_type": "code",
      "source": [
        "exchange = blankly.Alpaca() #Connect to Alpaca API\n",
        "strategy = blankly.Strategy(exchange) #Initialize a Blankly strategy\n",
        "strategy.add_price_event(price_kelly, symbol = 'CRM', resolution = '1d', init = init_kelly)\n",
        "strategy.add_price_event(price_kelly, symbol='SPY', resolution='1d', init=init_kelly) #Add our price event and initialization\n",
        "strategy.add_price_event(price_kelly, symbol='AAPL', resolution='1d', init=init_kelly)\n",
        "results = strategy.backtest(to='1y', initial_values={'USD': 10000}) #Backtest one year starting with $10,000\n",
        "print(results)"
      ],
      "metadata": {
        "colab": {
          "base_uri": "https://localhost:8080/"
        },
        "id": "XQTB4vMgo4UQ",
        "outputId": "5880b3a0-75a5-4613-b8a7-82154f8517d1"
      },
      "execution_count": 21,
      "outputs": [
        {
          "output_type": "stream",
          "name": "stderr",
          "text": [
            "INFO: No portfolio name to load specified, defaulting to the first in the file: (another cool portfolio). This is fine if there is only one portfolio in use.\n"
          ]
        },
        {
          "output_type": "stream",
          "name": "stdout",
          "text": [
            "\n",
            "Initializing...\n",
            "[0, 0, 0.7888825272207316, 0, 0, 0.20332200726210103, 0.09713363963406879, 0.010154941478003443, 0.07155188518533973, 0]\n",
            "[0, 1.0, 0.38414505667619037, 0, 0.30102172256186976, 0.1410895486615057, 0.06163776469911697, 0.31368224653511223, 0, 0]\n",
            "[0, 0, 0.5545629388888995, 0.054238890923532845, 0, 0.24689797832005272, 0.2700327811537582, 0, 0, 0]\n",
            "\n",
            "Backtesting...\n",
            "Progress: [##########] 100% Done...\n",
            "\n",
            "Historical Dataframes: \n",
            "Account History: \n",
            "              USD   CRM   SPY   AAPL          time  Account Value (USD)\n",
            "0     10000.00000  0.00  0.00   0.00  1.618286e+09         10000.000000\n",
            "1      9030.24000  4.18  0.00   0.00  1.618286e+09         10000.000000\n",
            "2      6198.02040  4.18  6.86   0.00  1.618286e+09         10000.000000\n",
            "3      4524.70803  4.18  6.86  12.45  1.618286e+09         10000.000000\n",
            "4      4503.58323  4.18  6.86  12.61  1.618373e+09          9970.461130\n",
            "...           ...   ...   ...    ...           ...                  ...\n",
            "1087  10470.03348  0.01  3.85   0.01  1.649563e+09         12196.807168\n",
            "1089  10470.03348  0.01  3.85   0.01  1.649563e+09         12196.807168\n",
            "1091  10470.03348  0.01  3.85   0.01  1.649650e+09         12196.807168\n",
            "1090  10470.03348  0.01  3.85   0.01  1.649650e+09         12196.807168\n",
            "1092  10470.03348  0.01  3.85   0.01  1.649650e+09         12196.807168\n",
            "\n",
            "[1093 rows x 6 columns]\n",
            "Account Returns: \n",
            "             time         value\n",
            "0    1.618286e+09           NaN\n",
            "1    1.618373e+09 -2.000622e-13\n",
            "2    1.618459e+09 -2.953887e-03\n",
            "3    1.618546e+09  1.366988e-03\n",
            "4    1.618632e+09  9.719263e-04\n",
            "..            ...           ...\n",
            "359  1.649304e+09 -1.048340e-02\n",
            "360  1.649390e+09 -4.545216e-04\n",
            "361  1.649477e+09 -1.420308e-03\n",
            "362  1.649563e+09 -3.020616e-04\n",
            "363  1.649650e+09  0.000000e+00\n",
            "\n",
            "[364 rows x 2 columns]\n",
            "Resampled Account Value: \n",
            "             time         value\n",
            "0    1.618286e+09  10000.000000\n",
            "1    1.618373e+09  10000.000000\n",
            "2    1.618459e+09   9970.461130\n",
            "3    1.618546e+09   9984.090630\n",
            "4    1.618632e+09   9993.794430\n",
            "..            ...           ...\n",
            "359  1.649304e+09  12223.401368\n",
            "360  1.649390e+09  12217.845568\n",
            "361  1.649477e+09  12200.492468\n",
            "362  1.649563e+09  12196.807168\n",
            "363  1.649650e+09  12196.807168\n",
            "\n",
            "[364 rows x 2 columns]\n",
            "Blankly Metrics: \n",
            "Calmar Ratio:                      3.42\n",
            "Compound Annual Growth Rate (%):   22.0%\n",
            "Conditional Value-at-Risk:         1.02\n",
            "Cumulative Returns (%):            22.0%\n",
            "Max Drawdown (%):                  4.0%\n",
            "Resampled Time:                    86400.0\n",
            "Risk Free Return Rate:             0.0\n",
            "Sharpe Ratio:                      1.95\n",
            "Sortino Ratio:                     3.58\n",
            "Value-at-Risk:                     58.84\n",
            "Variance (%):                      0.52%\n",
            "Volatility:                        0.07\n",
            "\n"
          ]
        },
        {
          "output_type": "stream",
          "name": "stderr",
          "text": [
            "INFO: Make an account to take advantage of the platform backtest viewer: https://app.blankly.finance/5Z9MWfnUzwIyy9Qv385a/1Ss7zybwN8aMAbWb3lSH/aG3LE1LzHnY24oqtBMS3/backtest\n"
          ]
        }
      ]
    },
    {
      "cell_type": "markdown",
      "source": [
        "In contrast, when we run our Kelly-based allocation model, we end up with a much better reward/risk. We had slightly worse returns with significantly less capital deployed, resulting in a 1.95 Sharpe Ratio and 3.58 Sortino Ratio. We had a solid model before, but adding Kelly allocation really boosted its performance. This model definitely benefited from luck, but the main point is that the Kelly-based RSI model outperformed the naive RSI model. With a more effective model, adding Kelly could result in significantly better performance."
      ],
      "metadata": {
        "id": "c62b97-V_TDi"
      }
    }
  ]
}